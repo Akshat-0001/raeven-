{
  "nbformat": 4,
  "nbformat_minor": 0,
  "metadata": {
    "colab": {
      "provenance": [],
      "authorship_tag": "ABX9TyMTrFecUtrwfFNYcBzYbnCk",
      "include_colab_link": true
    },
    "kernelspec": {
      "name": "python3",
      "display_name": "Python 3"
    },
    "language_info": {
      "name": "python"
    }
  },
  "cells": [
    {
      "cell_type": "markdown",
      "metadata": {
        "id": "view-in-github",
        "colab_type": "text"
      },
      "source": [
        "<a href=\"https://colab.research.google.com/github/Akshat-0001/raeven-/blob/main/Untitled2.ipynb\" target=\"_parent\"><img src=\"https://colab.research.google.com/assets/colab-badge.svg\" alt=\"Open In Colab\"/></a>"
      ]
    },
    {
      "cell_type": "code",
      "execution_count": 40,
      "metadata": {
        "colab": {
          "base_uri": "https://localhost:8080/"
        },
        "id": "1ds_oMbEFSdV",
        "outputId": "1c42b0f8-cbd8-46d9-e8e1-89abe9f67370"
      },
      "outputs": [
        {
          "output_type": "stream",
          "name": "stdout",
          "text": [
            "r.random() --> 0.2721655031219189\n",
            "r.random() --> 0.031280334251642006\n",
            "r.random() --> 0.6971274875192577\n"
          ]
        }
      ],
      "source": [
        "#--------------------------------------------\n",
        "# 1.1: Generate random number between 0 and 1\n",
        "#--------------------------------------------\n",
        "import random as r\n",
        "print (\"r.random() -->\", r.random())        # Random number between 0 and 1\n",
        "print (\"r.random() -->\", r.random())\n",
        "print (\"r.random() -->\", r.random())"
      ]
    },
    {
      "cell_type": "code",
      "source": [
        "#-------------------------------------\n",
        "# 1.2: Generate random integer number\n",
        "#-------------------------------------\n",
        "import random as r\n",
        "print (\"r.randint(  1, 10) -->\", r.randint(1, 10))\n",
        "print (\"r.randint(  1, 10) -->\", r.randint(1, 10))\n",
        "print (\"r.randint(-10, 10) -->\", r.randint(-10, 10))\n",
        "print (\"r.randint(-10, 10) -->\", r.randint(-10, 10))"
      ],
      "metadata": {
        "colab": {
          "base_uri": "https://localhost:8080/"
        },
        "id": "cjd-0t-TFgSj",
        "outputId": "137c32ce-f421-44c8-b081-bc4821c72850"
      },
      "execution_count": 41,
      "outputs": [
        {
          "output_type": "stream",
          "name": "stdout",
          "text": [
            "r.randint(  1, 10) --> 7\n",
            "r.randint(  1, 10) --> 10\n",
            "r.randint(-10, 10) --> 7\n",
            "r.randint(-10, 10) --> 2\n"
          ]
        }
      ]
    },
    {
      "cell_type": "code",
      "source": [
        "#----------------------------------\n",
        "# 1.3: Generate random real number\n",
        "#----------------------------------\n",
        "import random as r\n",
        "\n",
        "print (\"r.uniform(1, 100)   -->\", r.uniform(1, 100))\n",
        "print (\"r.uniform(1, 100)   -->\", round(r.uniform(1, 100),2))\n",
        "print (\"r.uniform (-10, 10) -->\", r.uniform (-10, 10))\n",
        "print (\"r.uniform (-10, 10) -->\", round(r.uniform (-10, 10),4))"
      ],
      "metadata": {
        "colab": {
          "base_uri": "https://localhost:8080/"
        },
        "id": "yXYymn5fFWf5",
        "outputId": "0d9e7152-3dfa-411c-8483-4b6d21e8739c"
      },
      "execution_count": 42,
      "outputs": [
        {
          "output_type": "stream",
          "name": "stdout",
          "text": [
            "r.uniform(1, 100)   --> 51.027044059047505\n",
            "r.uniform(1, 100)   --> 22.11\n",
            "r.uniform (-10, 10) --> 2.40657307987831\n",
            "r.uniform (-10, 10) --> 6.326\n"
          ]
        }
      ]
    },
    {
      "cell_type": "code",
      "source": [
        "#----------------------------------------------\n",
        "# 1.4: Generate sample from a list of elements\n",
        "#----------------------------------------------\n",
        "import random as r\n",
        "\n",
        "A = [1, 2, 3, 4, 5, 6, 7]  # A is a list\n",
        "print (\"A            --> \",A)\n",
        "\n",
        "print (\"\")\n",
        "print (\"sample(A, 4) --> \",r.sample(A, 2))\n",
        "print (\"sample(A, 2) --> \",r.sample(A, 1))\n",
        "\n",
        "print (\"\")\n",
        "print (\"sample(range(1,65),2) --> \",r.sample(range(1,65), 2))\n",
        "print (\"sample(range(1,65),2) --> \",r.sample(range(1,65), 2))"
      ],
      "metadata": {
        "colab": {
          "base_uri": "https://localhost:8080/"
        },
        "id": "W-UEAbMnFWjF",
        "outputId": "62ef52a7-cadb-48d2-8998-04af4ffd8463"
      },
      "execution_count": 45,
      "outputs": [
        {
          "output_type": "stream",
          "name": "stdout",
          "text": [
            "A            -->  [1, 2, 3, 4, 5, 6, 7]\n",
            "\n",
            "sample(A, 4) -->  [3, 4]\n",
            "sample(A, 2) -->  [7]\n",
            "\n",
            "sample(range(1,65),2) -->  [39, 29]\n",
            "sample(range(1,65),2) -->  [11, 13]\n"
          ]
        }
      ]
    },
    {
      "cell_type": "code",
      "source": [
        "#-------------------------------\n",
        "# 1.5: Generate random string\n",
        "#-----------------------------\n",
        "import string as s\n",
        "import random as r\n",
        "print (\"String  --> \",s.ascii_letters)\n",
        "\n",
        "passwd = r.sample(s.ascii_letters, 5)\n",
        "print (\"\")\n",
        "print (\"password_1 --> \",passwd)\n",
        "passwd = \"\".join(passwd)            \n",
        "print (\"password_1 --> \",passwd)"
      ],
      "metadata": {
        "colab": {
          "base_uri": "https://localhost:8080/"
        },
        "id": "hrcjDxK3FWnr",
        "outputId": "fff9fc9b-10ac-40fa-e30b-561d7e25ba39"
      },
      "execution_count": 46,
      "outputs": [
        {
          "output_type": "stream",
          "name": "stdout",
          "text": [
            "String  -->  abcdefghijklmnopqrstuvwxyzABCDEFGHIJKLMNOPQRSTUVWXYZ\n",
            "\n",
            "password_1 -->  ['Q', 'M', 'z', 'f', 'i']\n",
            "password_1 -->  QMzfi\n"
          ]
        }
      ]
    },
    {
      "cell_type": "code",
      "source": [
        "#-----------------------------------\n",
        "# 1.6: Generate random digits (OTP)\n",
        "#-----------------------------------\n",
        "import string as s\n",
        "import random as r\n",
        "print (\"Digits --> \",s.digits)\n",
        "\n",
        "otp = r.sample(s.digits, 5)\n",
        "print (\"\")\n",
        "print (\"otp --> \",otp)\n",
        "otp = \"\".join(otp)\n",
        "print (\"otp --> \",otp)"
      ],
      "metadata": {
        "colab": {
          "base_uri": "https://localhost:8080/"
        },
        "id": "a3UF646JFWrc",
        "outputId": "29ceebd2-f484-4261-fc94-85cc7d24df27"
      },
      "execution_count": 47,
      "outputs": [
        {
          "output_type": "stream",
          "name": "stdout",
          "text": [
            "Digits -->  0123456789\n",
            "\n",
            "otp -->  ['4', '9', '5', '1', '3']\n",
            "otp -->  49513\n"
          ]
        }
      ]
    },
    {
      "cell_type": "code",
      "source": [
        "#----------------------------------------------------\n",
        "# 1.8: Generate random string + digits + special char\n",
        "#----------------------------------------------------\n",
        "import string as s\n",
        "import random as r\n",
        "\n",
        "splChar = \"#@!~%^&*()_+=-[]{}|\"\n",
        "\n",
        "mixPasswd = r.sample(splChar + s.ascii_letters + s.digits, 12)\n",
        "print (\"mix_Password --> \",mixPasswd)\n",
        "mixPasswd = \"\".join(mixPasswd)\n",
        "print (\"\")\n",
        "print (\"mix_Password --> \",mixPasswd)"
      ],
      "metadata": {
        "colab": {
          "base_uri": "https://localhost:8080/"
        },
        "id": "WRSnJMESFW08",
        "outputId": "4a4db3ca-08d9-4358-ec35-89f401e64de7"
      },
      "execution_count": 48,
      "outputs": [
        {
          "output_type": "stream",
          "name": "stdout",
          "text": [
            "mix_Password -->  ['f', '8', 'd', 'z', 't', 'h', 'K', 'D', 'I', '#', '9', 'l']\n",
            "\n",
            "mix_Password -->  f8dzthKDI#9l\n"
          ]
        }
      ]
    },
    {
      "cell_type": "code",
      "source": [
        "#-------------------------------------------\n",
        "# 2.1: Error Generation 2: Division by Zero\n",
        "#-------------------------------------------\n",
        "for i in range(-5,8):\n",
        "    print (\"100/\",i,\"-->\", 100/i)"
      ],
      "metadata": {
        "colab": {
          "base_uri": "https://localhost:8080/",
          "height": 287
        },
        "id": "KaG809iUFW5G",
        "outputId": "ef5aa650-b573-4bd1-b7cc-9292896eef9b"
      },
      "execution_count": 51,
      "outputs": [
        {
          "output_type": "stream",
          "name": "stdout",
          "text": [
            "100/ -5 --> -20.0\n",
            "100/ -4 --> -25.0\n",
            "100/ -3 --> -33.333333333333336\n",
            "100/ -2 --> -50.0\n",
            "100/ -1 --> -100.0\n"
          ]
        },
        {
          "output_type": "error",
          "ename": "ZeroDivisionError",
          "evalue": "ignored",
          "traceback": [
            "\u001b[0;31m---------------------------------------------------------------------------\u001b[0m",
            "\u001b[0;31mZeroDivisionError\u001b[0m                         Traceback (most recent call last)",
            "\u001b[0;32m<ipython-input-51-f04d73025f33>\u001b[0m in \u001b[0;36m<module>\u001b[0;34m\u001b[0m\n\u001b[1;32m      3\u001b[0m \u001b[0;31m#-------------------------------------------\u001b[0m\u001b[0;34m\u001b[0m\u001b[0;34m\u001b[0m\u001b[0;34m\u001b[0m\u001b[0m\n\u001b[1;32m      4\u001b[0m \u001b[0;32mfor\u001b[0m \u001b[0mi\u001b[0m \u001b[0;32min\u001b[0m \u001b[0mrange\u001b[0m\u001b[0;34m(\u001b[0m\u001b[0;34m-\u001b[0m\u001b[0;36m5\u001b[0m\u001b[0;34m,\u001b[0m\u001b[0;36m8\u001b[0m\u001b[0;34m)\u001b[0m\u001b[0;34m:\u001b[0m\u001b[0;34m\u001b[0m\u001b[0;34m\u001b[0m\u001b[0m\n\u001b[0;32m----> 5\u001b[0;31m     \u001b[0mprint\u001b[0m \u001b[0;34m(\u001b[0m\u001b[0;34m\"100/\"\u001b[0m\u001b[0;34m,\u001b[0m\u001b[0mi\u001b[0m\u001b[0;34m,\u001b[0m\u001b[0;34m\"-->\"\u001b[0m\u001b[0;34m,\u001b[0m \u001b[0;36m100\u001b[0m\u001b[0;34m/\u001b[0m\u001b[0mi\u001b[0m\u001b[0;34m)\u001b[0m\u001b[0;34m\u001b[0m\u001b[0;34m\u001b[0m\u001b[0m\n\u001b[0m",
            "\u001b[0;31mZeroDivisionError\u001b[0m: division by zero"
          ]
        }
      ]
    },
    {
      "cell_type": "code",
      "source": [
        "#----------------------------------------------\n",
        "# 2.2: Exception handling for division by zero\n",
        "#----------------------------------------------\n",
        "for i in range(-5,8):\n",
        "    try:\n",
        "        print (\"100 /\",i,\"-->\", 100/i)\n",
        "    except:\n",
        "        print (\"error\")"
      ],
      "metadata": {
        "colab": {
          "base_uri": "https://localhost:8080/"
        },
        "id": "HAJOLhPGFW8P",
        "outputId": "25141cc0-a02c-4b0b-9020-9b5918d4b73d"
      },
      "execution_count": 50,
      "outputs": [
        {
          "output_type": "stream",
          "name": "stdout",
          "text": [
            "100 / -5 --> -20.0\n",
            "100 / -4 --> -25.0\n",
            "100 / -3 --> -33.333333333333336\n",
            "100 / -2 --> -50.0\n",
            "100 / -1 --> -100.0\n",
            "error\n",
            "100 / 1 --> 100.0\n",
            "100 / 2 --> 50.0\n",
            "100 / 3 --> 33.333333333333336\n",
            "100 / 4 --> 25.0\n",
            "100 / 5 --> 20.0\n",
            "100 / 6 --> 16.666666666666668\n",
            "100 / 7 --> 14.285714285714286\n"
          ]
        }
      ]
    },
    {
      "cell_type": "code",
      "source": [
        "#-----------------------------------------------\n",
        "# 2.3: Error Generation 1: Variable not Defined\n",
        "#-----------------------------------------------\n",
        "print(\"z = \", z)"
      ],
      "metadata": {
        "colab": {
          "base_uri": "https://localhost:8080/",
          "height": 200
        },
        "id": "PId8sI6BFXB9",
        "outputId": "60d0a4aa-7bd3-4e69-acde-e096d47c76bc"
      },
      "execution_count": 52,
      "outputs": [
        {
          "output_type": "error",
          "ename": "NameError",
          "evalue": "ignored",
          "traceback": [
            "\u001b[0;31m---------------------------------------------------------------------------\u001b[0m",
            "\u001b[0;31mNameError\u001b[0m                                 Traceback (most recent call last)",
            "\u001b[0;32m<ipython-input-52-d18d4aaee016>\u001b[0m in \u001b[0;36m<module>\u001b[0;34m\u001b[0m\n\u001b[1;32m      2\u001b[0m \u001b[0;31m# 2.3: Error Generation 1: Variable not Defined\u001b[0m\u001b[0;34m\u001b[0m\u001b[0;34m\u001b[0m\u001b[0;34m\u001b[0m\u001b[0m\n\u001b[1;32m      3\u001b[0m \u001b[0;31m#-----------------------------------------------\u001b[0m\u001b[0;34m\u001b[0m\u001b[0;34m\u001b[0m\u001b[0;34m\u001b[0m\u001b[0m\n\u001b[0;32m----> 4\u001b[0;31m \u001b[0mprint\u001b[0m\u001b[0;34m(\u001b[0m\u001b[0;34m\"z = \"\u001b[0m\u001b[0;34m,\u001b[0m \u001b[0mz\u001b[0m\u001b[0;34m)\u001b[0m\u001b[0;34m\u001b[0m\u001b[0;34m\u001b[0m\u001b[0m\n\u001b[0m",
            "\u001b[0;31mNameError\u001b[0m: name 'z' is not defined"
          ]
        }
      ]
    },
    {
      "cell_type": "code",
      "source": [
        "#------------------------------------------------\n",
        "# 2.4: Exception handling:  Variable not Defined\n",
        "#------------------------------------------------\n",
        "try:\n",
        "  print(\"z = \", z)\n",
        "except:\n",
        "  print(\"An exception occurred; x is not defined\")\n",
        "  "
      ],
      "metadata": {
        "colab": {
          "base_uri": "https://localhost:8080/"
        },
        "id": "ytZej5c0F9H1",
        "outputId": "ff41dfa0-a8b1-42e5-cb41-500aeee644dd"
      },
      "execution_count": 53,
      "outputs": [
        {
          "output_type": "stream",
          "name": "stdout",
          "text": [
            "An exception occurred; x is not defined\n"
          ]
        }
      ]
    },
    {
      "cell_type": "code",
      "source": [
        "#-----------------------------------------------\n",
        "# 2.5: Exception handling:  Variable not Defined\n",
        "#-----------------------------------------------\n",
        "try:\n",
        "  print(\"z = \", z)\n",
        "except NameError:\n",
        "  print(\"Variable x is not defined\")\n",
        "except:\n",
        "  print(\"Something else went wrong\")"
      ],
      "metadata": {
        "colab": {
          "base_uri": "https://localhost:8080/"
        },
        "id": "oP0G_J95FXFu",
        "outputId": "c55640c6-bcbd-47ea-a83b-98bda114d9aa"
      },
      "execution_count": null,
      "outputs": [
        {
          "output_type": "stream",
          "name": "stdout",
          "text": [
            "Variable x is not defined\n"
          ]
        }
      ]
    },
    {
      "cell_type": "code",
      "source": [
        "#------------------------------------------\n",
        "# 2.6: Exception handling:  else without if\n",
        "#------------------------------------------\n",
        "\n",
        "try:\n",
        "  print(\"Coco loves food\")\n",
        "except:\n",
        "  print(\"Something went wrong\")\n",
        "else:\n",
        "  print(\"Nothing went wrong\\n\")"
      ],
      "metadata": {
        "colab": {
          "base_uri": "https://localhost:8080/"
        },
        "id": "KvjJCzSLFXKj",
        "outputId": "337b993b-3efb-42ee-bde5-0918b1e4168a"
      },
      "execution_count": 54,
      "outputs": [
        {
          "output_type": "stream",
          "name": "stdout",
          "text": [
            "Coco loves food\n",
            "Nothing went wrong\n",
            "\n"
          ]
        }
      ]
    },
    {
      "cell_type": "code",
      "source": [
        "#----------------------\n",
        "# 2.7: Finally block\n",
        "#----------------------\n",
        "\n",
        "try:\n",
        "  print(\"z = \", z)\n",
        "except:\n",
        "  print(\"Something went wrong\")\n",
        "finally:\n",
        "  print(\"The 'try except' is finished\")"
      ],
      "metadata": {
        "colab": {
          "base_uri": "https://localhost:8080/"
        },
        "id": "9-exb21vFXOx",
        "outputId": "3b22e6a4-01f6-41d7-c1b1-19bb6ddd84ff"
      },
      "execution_count": 55,
      "outputs": [
        {
          "output_type": "stream",
          "name": "stdout",
          "text": [
            "Something went wrong\n",
            "The 'try except' is finished\n"
          ]
        }
      ]
    },
    {
      "cell_type": "code",
      "source": [
        "#------------------------------------------------\n",
        "# 2.8: Exception handling for array out of index\n",
        "#------------------------------------------------\n",
        "L = [1, 2, 3, 4, 5, 6]\n",
        "\n",
        "for i in range(7):\n",
        "    try:\n",
        "        print (i,\"-->\",L[i])\n",
        "    except:\n",
        "        print (\"error\")"
      ],
      "metadata": {
        "colab": {
          "base_uri": "https://localhost:8080/"
        },
        "id": "H9deivarGJpt",
        "outputId": "53ab1664-0601-4fd7-86a1-8463b61746fd"
      },
      "execution_count": 56,
      "outputs": [
        {
          "output_type": "stream",
          "name": "stdout",
          "text": [
            "0 --> 1\n",
            "1 --> 2\n",
            "2 --> 3\n",
            "3 --> 4\n",
            "4 --> 5\n",
            "5 --> 6\n",
            "error\n"
          ]
        }
      ]
    },
    {
      "cell_type": "code",
      "source": [
        "#--------------------------------------------\n",
        "# 2.9: Exception handling for file not found\n",
        "#--------------------------------------------\n",
        "fileName = input(\"Enter File Name: \")\n",
        "fp = open(fileName)     # Open the file in reading mode\n",
        "fp.close()\n",
        "print (\"Done\")"
      ],
      "metadata": {
        "colab": {
          "base_uri": "https://localhost:8080/",
          "height": 252
        },
        "id": "YQy1KataGJsb",
        "outputId": "e84e1ec0-f56c-4431-8240-109389858974"
      },
      "execution_count": 57,
      "outputs": [
        {
          "name": "stdout",
          "output_type": "stream",
          "text": [
            "Enter File Name: OK Boomer\n"
          ]
        },
        {
          "output_type": "error",
          "ename": "FileNotFoundError",
          "evalue": "ignored",
          "traceback": [
            "\u001b[0;31m---------------------------------------------------------------------------\u001b[0m",
            "\u001b[0;31mFileNotFoundError\u001b[0m                         Traceback (most recent call last)",
            "\u001b[0;32m<ipython-input-57-7b20f984bd18>\u001b[0m in \u001b[0;36m<module>\u001b[0;34m\u001b[0m\n\u001b[1;32m      3\u001b[0m \u001b[0;31m#--------------------------------------------\u001b[0m\u001b[0;34m\u001b[0m\u001b[0;34m\u001b[0m\u001b[0;34m\u001b[0m\u001b[0m\n\u001b[1;32m      4\u001b[0m \u001b[0mfileName\u001b[0m \u001b[0;34m=\u001b[0m \u001b[0minput\u001b[0m\u001b[0;34m(\u001b[0m\u001b[0;34m\"Enter File Name: \"\u001b[0m\u001b[0;34m)\u001b[0m\u001b[0;34m\u001b[0m\u001b[0;34m\u001b[0m\u001b[0m\n\u001b[0;32m----> 5\u001b[0;31m \u001b[0mfp\u001b[0m \u001b[0;34m=\u001b[0m \u001b[0mopen\u001b[0m\u001b[0;34m(\u001b[0m\u001b[0mfileName\u001b[0m\u001b[0;34m)\u001b[0m     \u001b[0;31m# Open the file in reading mode\u001b[0m\u001b[0;34m\u001b[0m\u001b[0;34m\u001b[0m\u001b[0m\n\u001b[0m\u001b[1;32m      6\u001b[0m \u001b[0mfp\u001b[0m\u001b[0;34m.\u001b[0m\u001b[0mclose\u001b[0m\u001b[0;34m(\u001b[0m\u001b[0;34m)\u001b[0m\u001b[0;34m\u001b[0m\u001b[0;34m\u001b[0m\u001b[0m\n\u001b[1;32m      7\u001b[0m \u001b[0mprint\u001b[0m \u001b[0;34m(\u001b[0m\u001b[0;34m\"Done\"\u001b[0m\u001b[0;34m)\u001b[0m\u001b[0;34m\u001b[0m\u001b[0;34m\u001b[0m\u001b[0m\n",
            "\u001b[0;31mFileNotFoundError\u001b[0m: [Errno 2] No such file or directory: 'OK Boomer'"
          ]
        }
      ]
    },
    {
      "cell_type": "code",
      "source": [
        "#----------------------------------------------\n",
        "# 2.10: Exception handaling for file not found\n",
        "#----------------------------------------------\n",
        "fileName=input(\"Enter File Name: \")\n",
        "try:\n",
        "    fp=open(fileName)        # Open the file in reading mode\n",
        "    fp.close()\n",
        "except:\n",
        "    print (\"Error !! %s file Not Found\"%(fileName))\n",
        "\n",
        "print (\"Done\")"
      ],
      "metadata": {
        "colab": {
          "base_uri": "https://localhost:8080/"
        },
        "id": "fLdKBClhGJwp",
        "outputId": "b6060852-6d7a-44a9-f429-c1f3f259842a"
      },
      "execution_count": 58,
      "outputs": [
        {
          "output_type": "stream",
          "name": "stdout",
          "text": [
            "Enter File Name: OK Boomer\n",
            "Error !! OK Boomer file Not Found\n",
            "Done\n"
          ]
        }
      ]
    },
    {
      "cell_type": "code",
      "source": [
        "#-------------------------------------------\n",
        "# 2.11: Exception handling: Input from user\n",
        "#-------------------------------------------\n",
        "# Add two numbers given by the user\n",
        "\n",
        "try:\n",
        "    a = int(input(\"Enter first number: \"))\n",
        "    b = int(input(\"Enter second number: \"))\n",
        "    c = a + b\n",
        "    print (a, \"+\", b, \"=\", c)\n",
        "except:\n",
        "    print(\"\\nError !! a or b is not of int type !!\")"
      ],
      "metadata": {
        "colab": {
          "base_uri": "https://localhost:8080/"
        },
        "id": "6WFi4wSDGJ0l",
        "outputId": "cdafc586-5348-4321-cb00-34272e7dd516"
      },
      "execution_count": 59,
      "outputs": [
        {
          "output_type": "stream",
          "name": "stdout",
          "text": [
            "Enter first number: 74\n",
            "Enter second number: 24\n",
            "74 + 24 = 98\n"
          ]
        }
      ]
    },
    {
      "cell_type": "code",
      "source": [
        "6#-------------------------------------------\n",
        "# 2.12: Exception handaling: Input from user \n",
        "#-------------------------------------------\n",
        "# Add two numbers given by user\n",
        "\n",
        "try:\n",
        "    a = int(input(\"Enter first number: \"))\n",
        "except:\n",
        "    print(\"\\nError !! a is not of int type !!\")\n",
        "    exit(0)\n",
        "\n",
        "try:\n",
        "    b = int(input(\"Enter second number: \"))\n",
        "except:\n",
        "    print(\"\\nError !! b is not of int type !!\")\n",
        "    exit(0)\n",
        "\n",
        "c = a + b\n",
        "\n",
        "print (a,\" + \", b, \" = \", c)"
      ],
      "metadata": {
        "colab": {
          "base_uri": "https://localhost:8080/"
        },
        "id": "om6RMa28GQFg",
        "outputId": "49ec1046-f37f-4e6e-a785-e76463d3e067"
      },
      "execution_count": 60,
      "outputs": [
        {
          "output_type": "stream",
          "name": "stdout",
          "text": [
            "Enter first number: 24\n",
            "Enter second number: 75\n",
            "24  +  75  =  99\n"
          ]
        }
      ]
    },
    {
      "cell_type": "code",
      "source": [
        "#-------------------------\n",
        "# 2.13: Raise Exception 1\n",
        "#-------------------------\n",
        "x = -2\n",
        "\n",
        "if x < 0:\n",
        "  raise Exception(\"Sorry, no numbers below zero\") "
      ],
      "metadata": {
        "colab": {
          "base_uri": "https://localhost:8080/",
          "height": 200
        },
        "id": "XTtqhtlaGJ6X",
        "outputId": "2be3de22-3cd0-4da6-82d8-bda1d8e338b4"
      },
      "execution_count": 61,
      "outputs": [
        {
          "output_type": "error",
          "ename": "Exception",
          "evalue": "ignored",
          "traceback": [
            "\u001b[0;31m---------------------------------------------------------------------------\u001b[0m",
            "\u001b[0;31mException\u001b[0m                                 Traceback (most recent call last)",
            "\u001b[0;32m<ipython-input-61-5d0c493a5d63>\u001b[0m in \u001b[0;36m<module>\u001b[0;34m\u001b[0m\n\u001b[1;32m      5\u001b[0m \u001b[0;34m\u001b[0m\u001b[0m\n\u001b[1;32m      6\u001b[0m \u001b[0;32mif\u001b[0m \u001b[0mx\u001b[0m \u001b[0;34m<\u001b[0m \u001b[0;36m0\u001b[0m\u001b[0;34m:\u001b[0m\u001b[0;34m\u001b[0m\u001b[0;34m\u001b[0m\u001b[0m\n\u001b[0;32m----> 7\u001b[0;31m   \u001b[0;32mraise\u001b[0m \u001b[0mException\u001b[0m\u001b[0;34m(\u001b[0m\u001b[0;34m\"Sorry, no numbers below zero\"\u001b[0m\u001b[0;34m)\u001b[0m\u001b[0;34m\u001b[0m\u001b[0;34m\u001b[0m\u001b[0m\n\u001b[0m",
            "\u001b[0;31mException\u001b[0m: Sorry, no numbers below zero"
          ]
        }
      ]
    },
    {
      "cell_type": "code",
      "source": [
        "#-------------------------\n",
        "# 2.14: Raise Exception 2\n",
        "#-------------------------\n",
        "x = \"Ohayo\"\n",
        "\n",
        "if type(x) is not int:\n",
        "  raise TypeError(\"Only integers are allowed\")"
      ],
      "metadata": {
        "colab": {
          "base_uri": "https://localhost:8080/",
          "height": 200
        },
        "id": "0JLCsAdRGJ_U",
        "outputId": "158ba719-774d-478b-88c3-1e3bc40b3143"
      },
      "execution_count": 62,
      "outputs": [
        {
          "output_type": "error",
          "ename": "TypeError",
          "evalue": "ignored",
          "traceback": [
            "\u001b[0;31m---------------------------------------------------------------------------\u001b[0m",
            "\u001b[0;31mTypeError\u001b[0m                                 Traceback (most recent call last)",
            "\u001b[0;32m<ipython-input-62-f24130d2789a>\u001b[0m in \u001b[0;36m<module>\u001b[0;34m\u001b[0m\n\u001b[1;32m      5\u001b[0m \u001b[0;34m\u001b[0m\u001b[0m\n\u001b[1;32m      6\u001b[0m \u001b[0;32mif\u001b[0m \u001b[0mtype\u001b[0m\u001b[0;34m(\u001b[0m\u001b[0mx\u001b[0m\u001b[0;34m)\u001b[0m \u001b[0;32mis\u001b[0m \u001b[0;32mnot\u001b[0m \u001b[0mint\u001b[0m\u001b[0;34m:\u001b[0m\u001b[0;34m\u001b[0m\u001b[0;34m\u001b[0m\u001b[0m\n\u001b[0;32m----> 7\u001b[0;31m   \u001b[0;32mraise\u001b[0m \u001b[0mTypeError\u001b[0m\u001b[0;34m(\u001b[0m\u001b[0;34m\"Only integers are allowed\"\u001b[0m\u001b[0;34m)\u001b[0m\u001b[0;34m\u001b[0m\u001b[0;34m\u001b[0m\u001b[0m\n\u001b[0m",
            "\u001b[0;31mTypeError\u001b[0m: Only integers are allowed"
          ]
        }
      ]
    }
  ]
}